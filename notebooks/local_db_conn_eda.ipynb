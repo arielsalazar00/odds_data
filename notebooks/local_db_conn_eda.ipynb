{
 "cells": [
  {
   "cell_type": "code",
   "execution_count": 1,
   "metadata": {},
   "outputs": [],
   "source": [
    "import os \n",
    "os.chdir('/home/ariel/dev/odds_data/')"
   ]
  },
  {
   "cell_type": "code",
   "execution_count": 2,
   "metadata": {},
   "outputs": [],
   "source": [
    "import pandas as pd \n",
    "import numpy as np \n",
    "import sqlalchemy"
   ]
  },
  {
   "cell_type": "code",
   "execution_count": 4,
   "metadata": {},
   "outputs": [
    {
     "data": {
      "text/plain": [
       "True"
      ]
     },
     "execution_count": 4,
     "metadata": {},
     "output_type": "execute_result"
    }
   ],
   "source": [
    "from dotenv import load_dotenv, find_dotenv\n",
    "\n",
    "load_dotenv(find_dotenv())"
   ]
  },
  {
   "cell_type": "code",
   "execution_count": 5,
   "metadata": {},
   "outputs": [],
   "source": [
    "DATABASE_CONFIG = {\n",
    "    'local': {\n",
    "        'host': 'localhost',\n",
    "        'user': os.getenv('DB_USER_LOCAL'),\n",
    "        'password': os.getenv('DB_PASSWORD_LOCAL'),\n",
    "        'database': os.getenv('DB_NAME_LOCAL')\n",
    "    },\n",
    "}"
   ]
  },
  {
   "cell_type": "code",
   "execution_count": 10,
   "metadata": {},
   "outputs": [],
   "source": [
    "# Get current environment's database config\n",
    "current_config = DATABASE_CONFIG.get(os.getenv('APP_ENV'), DATABASE_CONFIG['local'])\n",
    "current_config['_20K_API_KEY'] = os.getenv('_20K_API_KEY')\n",
    "\n",
    "# Create database URI\n",
    "DB_URI = f\"mysql+mysqlconnector://{current_config['user']}:{current_config['password']}@{current_config['host']}/{current_config['database']}\""
   ]
  },
  {
   "cell_type": "code",
   "execution_count": 11,
   "metadata": {},
   "outputs": [],
   "source": [
    "engine = sqlalchemy.create_engine(DB_URI)"
   ]
  },
  {
   "cell_type": "code",
   "execution_count": 14,
   "metadata": {},
   "outputs": [
    {
     "name": "stdout",
     "output_type": "stream",
     "text": [
      "                                 id             sport_key sport_title  \\\n",
      "0  31557235498f42eeba725001c12c97ff  americanfootball_nfl         NFL   \n",
      "1  31557235498f42eeba725001c12c97ff  americanfootball_nfl         NFL   \n",
      "2  31557235498f42eeba725001c12c97ff  americanfootball_nfl         NFL   \n",
      "3  31557235498f42eeba725001c12c97ff  americanfootball_nfl         NFL   \n",
      "4  31557235498f42eeba725001c12c97ff  americanfootball_nfl         NFL   \n",
      "\n",
      "          commence_time      home_team            away_team bookmaker_key  \\\n",
      "0  2024-12-02T01:23:22Z  Buffalo Bills  San Francisco 49ers    draftkings   \n",
      "1  2024-12-02T01:23:22Z  Buffalo Bills  San Francisco 49ers    draftkings   \n",
      "2  2024-12-02T01:23:22Z  Buffalo Bills  San Francisco 49ers    draftkings   \n",
      "3  2024-12-02T01:23:22Z  Buffalo Bills  San Francisco 49ers    draftkings   \n",
      "4  2024-12-02T01:23:22Z  Buffalo Bills  San Francisco 49ers    draftkings   \n",
      "\n",
      "  bookmaker_title bookmaker_last_update market_key    market_last_update  \\\n",
      "0      DraftKings  2024-12-02T01:53:06Z        h2h  2024-12-02T01:53:06Z   \n",
      "1      DraftKings  2024-12-02T01:53:06Z        h2h  2024-12-02T01:53:06Z   \n",
      "2      DraftKings  2024-12-02T01:53:06Z    spreads  2024-12-02T01:53:06Z   \n",
      "3      DraftKings  2024-12-02T01:53:06Z    spreads  2024-12-02T01:53:06Z   \n",
      "4      DraftKings  2024-12-02T01:53:06Z     totals  2024-12-02T01:53:06Z   \n",
      "\n",
      "          outcome_name  outcome_price outcome_point               last_updated  \n",
      "0        Buffalo Bills           1.36                2024-12-01T20:54:30-05:00  \n",
      "1  San Francisco 49ers           3.10                2024-12-01T20:54:30-05:00  \n",
      "2        Buffalo Bills           1.83          -5.5  2024-12-01T20:54:30-05:00  \n",
      "3  San Francisco 49ers           1.91           5.5  2024-12-01T20:54:30-05:00  \n",
      "4                 Over           1.80          43.5  2024-12-01T20:54:30-05:00  \n"
     ]
    }
   ],
   "source": [
    "with engine.connect() as connection:\n",
    "    result = connection.execute(sqlalchemy.text(\"SELECT * from odds_api_db.nfl_odds_last\"))\n",
    "    df = pd.DataFrame(result.fetchall())\n",
    "    df.columns = result.keys()\n",
    "    print(df.head())\n"
   ]
  },
  {
   "cell_type": "code",
   "execution_count": null,
   "metadata": {},
   "outputs": [],
   "source": []
  }
 ],
 "metadata": {
  "kernelspec": {
   "display_name": ".venv",
   "language": "python",
   "name": "python3"
  },
  "language_info": {
   "codemirror_mode": {
    "name": "ipython",
    "version": 3
   },
   "file_extension": ".py",
   "mimetype": "text/x-python",
   "name": "python",
   "nbconvert_exporter": "python",
   "pygments_lexer": "ipython3",
   "version": "3.10.12"
  }
 },
 "nbformat": 4,
 "nbformat_minor": 2
}
