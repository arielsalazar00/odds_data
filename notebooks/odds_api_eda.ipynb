{
 "cells": [
  {
   "cell_type": "code",
   "execution_count": 1,
   "metadata": {},
   "outputs": [],
   "source": [
    "import os \n",
    "os.chdir('/home/ariel/dev/odds_data/')\n",
    "\n",
    "import pandas as pd \n",
    "from tqdm import tqdm\n",
    "from utils.odds_api_accessor import OddsAccessor\n",
    "from database_config import current_config, DB_URI\n",
    "from datetime import datetime\n",
    "import pytz\n",
    "from sqlalchemy import create_engine\n",
    "from sqlalchemy.exc import IntegrityError\n",
    "import numpy as np\n",
    "\n",
    "TIMEZONE = pytz.timezone('America/New_York')\n",
    "oddsapi = OddsAccessor(current_config.get('_20K_API_KEY'))\n",
    "date_range_list = pd.date_range(start='2021-01-01', end='2025-03-30')\n",
    "engine = create_engine(DB_URI)"
   ]
  },
  {
   "cell_type": "code",
   "execution_count": 12,
   "metadata": {},
   "outputs": [],
   "source": [
    "import json"
   ]
  },
  {
   "cell_type": "code",
   "execution_count": 20,
   "metadata": {},
   "outputs": [],
   "source": [
    "with open('hist_main_odds_results.json', 'r') as f:\n",
    "    hist_results = json.load(f)"
   ]
  },
  {
   "cell_type": "code",
   "execution_count": 21,
   "metadata": {},
   "outputs": [],
   "source": [
    "def flatten_odds_data(hist_results):\n",
    "    # Initialize empty lists to store flattened data\n",
    "    flattened_data = []\n",
    "    \n",
    "    # Extract timestamp info\n",
    "    timestamp = hist_results['timestamp']\n",
    "    previous_timestamp = hist_results['previous_timestamp']\n",
    "    next_timestamp = hist_results['next_timestamp']\n",
    "    \n",
    "    # Iterate through each event in the data\n",
    "    for event in hist_results['data']:\n",
    "        event_id = event['id']\n",
    "        sport_key = event['sport_key']\n",
    "        sport_title = event['sport_title']\n",
    "        commence_time = event['commence_time']\n",
    "        home_team = event['home_team']\n",
    "        away_team = event['away_team']\n",
    "        \n",
    "        # Iterate through bookmakers\n",
    "        for bookmaker in event['bookmakers']:\n",
    "            bookmaker_key = bookmaker['key']\n",
    "            bookmaker_title = bookmaker['title']\n",
    "            bookmaker_last_update = bookmaker['last_update']\n",
    "            \n",
    "            # Iterate through markets\n",
    "            for market in bookmaker['markets']:\n",
    "                market_key = market['key']\n",
    "                market_last_update = market['last_update']\n",
    "                \n",
    "                # Iterate through outcomes\n",
    "                for outcome in market['outcomes']:\n",
    "                    row = {\n",
    "                        'timestamp': timestamp,\n",
    "                        'previous_timestamp': previous_timestamp,\n",
    "                        'next_timestamp': next_timestamp,\n",
    "                        'id': event_id,\n",
    "                        'sport_key': sport_key,\n",
    "                        'sport_title': sport_title,\n",
    "                        'commence_time': commence_time,\n",
    "                        'home_team': home_team,\n",
    "                        'away_team': away_team,\n",
    "                        'bookmaker_key': bookmaker_key,\n",
    "                        'bookmaker_title': bookmaker_title,\n",
    "                        'bookmaker_last_update': bookmaker_last_update,\n",
    "                        'market_key': market_key,\n",
    "                        'market_last_update': market_last_update,\n",
    "                        'outcome_name': outcome['name'],\n",
    "                        'outcome_price': outcome['price'],\n",
    "                        'outcome_point': outcome.get('point', None)  # Some markets (like h2h) don't have points\n",
    "                    }\n",
    "                    flattened_data.append(row)\n",
    "    \n",
    "    # Create DataFrame from flattened data\n",
    "    df = pd.DataFrame(flattened_data)\n",
    "    \n",
    "    # Convert timestamp columns to datetime\n",
    "    timestamp_cols = ['timestamp', 'previous_timestamp', 'next_timestamp', \n",
    "                     'commence_time', 'bookmaker_last_update', 'market_last_update']\n",
    "    for col in timestamp_cols:\n",
    "        df[col] = pd.to_datetime(df[col])\n",
    "        \n",
    "    return df\n",
    "\n",
    "# Use the function\n",
    "df = flatten_odds_data(hist_results)"
   ]
  },
  {
   "cell_type": "code",
   "execution_count": 23,
   "metadata": {},
   "outputs": [
    {
     "data": {
      "text/plain": [
       "['timestamp',\n",
       " 'previous_timestamp',\n",
       " 'next_timestamp',\n",
       " 'id',\n",
       " 'sport_key',\n",
       " 'sport_title',\n",
       " 'commence_time',\n",
       " 'home_team',\n",
       " 'away_team',\n",
       " 'bookmaker_key',\n",
       " 'bookmaker_title',\n",
       " 'bookmaker_last_update',\n",
       " 'market_key',\n",
       " 'market_last_update',\n",
       " 'outcome_name',\n",
       " 'outcome_price',\n",
       " 'outcome_point']"
      ]
     },
     "execution_count": 23,
     "metadata": {},
     "output_type": "execute_result"
    }
   ],
   "source": [
    "df.columns.tolist()"
   ]
  },
  {
   "cell_type": "code",
   "execution_count": null,
   "metadata": {},
   "outputs": [],
   "source": []
  }
 ],
 "metadata": {
  "kernelspec": {
   "display_name": ".venv",
   "language": "python",
   "name": "python3"
  },
  "language_info": {
   "codemirror_mode": {
    "name": "ipython",
    "version": 3
   },
   "file_extension": ".py",
   "mimetype": "text/x-python",
   "name": "python",
   "nbconvert_exporter": "python",
   "pygments_lexer": "ipython3",
   "version": "3.10.12"
  }
 },
 "nbformat": 4,
 "nbformat_minor": 2
}
